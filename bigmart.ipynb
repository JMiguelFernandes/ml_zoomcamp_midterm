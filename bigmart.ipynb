{
 "cells": [
  {
   "cell_type": "markdown",
   "id": "6001c06d-95a9-44cc-bcab-744bbc5d4740",
   "metadata": {},
   "source": [
    "Hello everyone! :)\n",
    "\n",
    "For this project, I'll be using the following dataset:\n",
    "- https://www.kaggle.com/shivan118/big-mart-sales-prediction-datasets\n",
    "\n",
    "This dataset contains a number of features about products sold in a supermarket chain, including the number of items sold for each product at different stores. You can find a detailed description of what each column means at the link above. My goal will be to predict the number of items sold for new products at these stores."
   ]
  },
  {
   "cell_type": "code",
   "execution_count": 281,
   "id": "28abf31c-9854-44e2-a9fb-e1861daef118",
   "metadata": {},
   "outputs": [],
   "source": [
    "import pandas as pd\n",
    "import numpy as np\n",
    "\n",
    "from sklearn.feature_extraction import DictVectorizer\n",
    "from sklearn.model_selection import train_test_split, cross_validate, GridSearchCV\n",
    "from sklearn.metrics import mutual_info_score, roc_auc_score, r2_score, mean_squared_error\n",
    "\n",
    "from sklearn.linear_model import LinearRegression, Ridge, Lasso, BayesianRidge\n",
    "from sklearn.tree import DecisionTreeRegressor\n",
    "from sklearn.ensemble import RandomForestRegressor\n",
    "from xgboost import XGBRegressor\n",
    "\n",
    "import matplotlib.pyplot as plt\n",
    "import seaborn as sns\n",
    "%matplotlib inline"
   ]
  },
  {
   "cell_type": "code",
   "execution_count": 237,
   "id": "6db3d1b8-d59b-4294-9877-5854ed1a424b",
   "metadata": {},
   "outputs": [
    {
     "data": {
      "text/html": [
       "<div>\n",
       "<style scoped>\n",
       "    .dataframe tbody tr th:only-of-type {\n",
       "        vertical-align: middle;\n",
       "    }\n",
       "\n",
       "    .dataframe tbody tr th {\n",
       "        vertical-align: top;\n",
       "    }\n",
       "\n",
       "    .dataframe thead th {\n",
       "        text-align: right;\n",
       "    }\n",
       "</style>\n",
       "<table border=\"1\" class=\"dataframe\">\n",
       "  <thead>\n",
       "    <tr style=\"text-align: right;\">\n",
       "      <th></th>\n",
       "      <th>ProductID</th>\n",
       "      <th>Weight</th>\n",
       "      <th>FatContent</th>\n",
       "      <th>ProductVisibility</th>\n",
       "      <th>ProductType</th>\n",
       "      <th>MRP</th>\n",
       "      <th>OutletID</th>\n",
       "      <th>EstablishmentYear</th>\n",
       "      <th>OutletSize</th>\n",
       "      <th>LocationType</th>\n",
       "      <th>OutletType</th>\n",
       "      <th>OutletSales</th>\n",
       "    </tr>\n",
       "  </thead>\n",
       "  <tbody>\n",
       "    <tr>\n",
       "      <th>0</th>\n",
       "      <td>FDA15</td>\n",
       "      <td>9.30</td>\n",
       "      <td>Low Fat</td>\n",
       "      <td>0.016047</td>\n",
       "      <td>Dairy</td>\n",
       "      <td>249.8092</td>\n",
       "      <td>OUT049</td>\n",
       "      <td>1999</td>\n",
       "      <td>Medium</td>\n",
       "      <td>Tier 1</td>\n",
       "      <td>Supermarket Type1</td>\n",
       "      <td>3735.1380</td>\n",
       "    </tr>\n",
       "    <tr>\n",
       "      <th>1</th>\n",
       "      <td>DRC01</td>\n",
       "      <td>5.92</td>\n",
       "      <td>Regular</td>\n",
       "      <td>0.019278</td>\n",
       "      <td>Soft Drinks</td>\n",
       "      <td>48.2692</td>\n",
       "      <td>OUT018</td>\n",
       "      <td>2009</td>\n",
       "      <td>Medium</td>\n",
       "      <td>Tier 3</td>\n",
       "      <td>Supermarket Type2</td>\n",
       "      <td>443.4228</td>\n",
       "    </tr>\n",
       "    <tr>\n",
       "      <th>2</th>\n",
       "      <td>FDN15</td>\n",
       "      <td>17.50</td>\n",
       "      <td>Low Fat</td>\n",
       "      <td>0.016760</td>\n",
       "      <td>Meat</td>\n",
       "      <td>141.6180</td>\n",
       "      <td>OUT049</td>\n",
       "      <td>1999</td>\n",
       "      <td>Medium</td>\n",
       "      <td>Tier 1</td>\n",
       "      <td>Supermarket Type1</td>\n",
       "      <td>2097.2700</td>\n",
       "    </tr>\n",
       "    <tr>\n",
       "      <th>3</th>\n",
       "      <td>FDX07</td>\n",
       "      <td>19.20</td>\n",
       "      <td>Regular</td>\n",
       "      <td>0.000000</td>\n",
       "      <td>Fruits and Vegetables</td>\n",
       "      <td>182.0950</td>\n",
       "      <td>OUT010</td>\n",
       "      <td>1998</td>\n",
       "      <td>NaN</td>\n",
       "      <td>Tier 3</td>\n",
       "      <td>Grocery Store</td>\n",
       "      <td>732.3800</td>\n",
       "    </tr>\n",
       "    <tr>\n",
       "      <th>4</th>\n",
       "      <td>NCD19</td>\n",
       "      <td>8.93</td>\n",
       "      <td>Low Fat</td>\n",
       "      <td>0.000000</td>\n",
       "      <td>Household</td>\n",
       "      <td>53.8614</td>\n",
       "      <td>OUT013</td>\n",
       "      <td>1987</td>\n",
       "      <td>High</td>\n",
       "      <td>Tier 3</td>\n",
       "      <td>Supermarket Type1</td>\n",
       "      <td>994.7052</td>\n",
       "    </tr>\n",
       "  </tbody>\n",
       "</table>\n",
       "</div>"
      ],
      "text/plain": [
       "  ProductID  Weight FatContent  ProductVisibility            ProductType  \\\n",
       "0     FDA15    9.30    Low Fat           0.016047                  Dairy   \n",
       "1     DRC01    5.92    Regular           0.019278            Soft Drinks   \n",
       "2     FDN15   17.50    Low Fat           0.016760                   Meat   \n",
       "3     FDX07   19.20    Regular           0.000000  Fruits and Vegetables   \n",
       "4     NCD19    8.93    Low Fat           0.000000              Household   \n",
       "\n",
       "        MRP OutletID  EstablishmentYear OutletSize LocationType  \\\n",
       "0  249.8092   OUT049               1999     Medium       Tier 1   \n",
       "1   48.2692   OUT018               2009     Medium       Tier 3   \n",
       "2  141.6180   OUT049               1999     Medium       Tier 1   \n",
       "3  182.0950   OUT010               1998        NaN       Tier 3   \n",
       "4   53.8614   OUT013               1987       High       Tier 3   \n",
       "\n",
       "          OutletType  OutletSales  \n",
       "0  Supermarket Type1    3735.1380  \n",
       "1  Supermarket Type2     443.4228  \n",
       "2  Supermarket Type1    2097.2700  \n",
       "3      Grocery Store     732.3800  \n",
       "4  Supermarket Type1     994.7052  "
      ]
     },
     "execution_count": 237,
     "metadata": {},
     "output_type": "execute_result"
    }
   ],
   "source": [
    "data = pd.read_csv(\"data/bigmart_Train-Set.csv\")\n",
    "data.head()"
   ]
  },
  {
   "cell_type": "markdown",
   "id": "f1e845d5-c5f2-44ed-aab2-cbd33a3dc25a",
   "metadata": {
    "tags": []
   },
   "source": [
    "# Data prep"
   ]
  },
  {
   "cell_type": "code",
   "execution_count": 238,
   "id": "55e166c6-5bfb-45d1-8b79-e9030716330d",
   "metadata": {},
   "outputs": [
    {
     "data": {
      "text/plain": [
       "Index(['ProductID', 'Weight', 'FatContent', 'ProductVisibility', 'ProductType',\n",
       "       'MRP', 'OutletID', 'EstablishmentYear', 'OutletSize', 'LocationType',\n",
       "       'OutletType', 'OutletSales'],\n",
       "      dtype='object')"
      ]
     },
     "execution_count": 238,
     "metadata": {},
     "output_type": "execute_result"
    }
   ],
   "source": [
    "data.columns"
   ]
  },
  {
   "cell_type": "code",
   "execution_count": 274,
   "id": "c407b701-1835-406d-acad-f1ee703f8979",
   "metadata": {},
   "outputs": [],
   "source": [
    "cols_categorical = [\"FatContent\", \n",
    "                    \"ProductType\", \n",
    "                    \"OutletID\", \n",
    "                    \"EstablishmentYear\", \n",
    "                    \"OutletSize\", \n",
    "                    \"LocationType\", \n",
    "                    \"OutletType\"]\n",
    "cols_numerical = [\"Weight\", \n",
    "                  \"ProductVisibility\", \n",
    "                  \"MRP\"]\n",
    "cols_to_drop = [\"ProductID\"]"
   ]
  },
  {
   "cell_type": "markdown",
   "id": "0b22a606-67de-4b35-ba99-b070cc042fc2",
   "metadata": {},
   "source": [
    "Let's start by taking a look at the numerical variables (this includes our target variable, `OutletSales`:"
   ]
  },
  {
   "cell_type": "code",
   "execution_count": 372,
   "id": "95276110-ddb5-498e-9121-94a985aee829",
   "metadata": {},
   "outputs": [
    {
     "data": {
      "text/html": [
       "<div>\n",
       "<style scoped>\n",
       "    .dataframe tbody tr th:only-of-type {\n",
       "        vertical-align: middle;\n",
       "    }\n",
       "\n",
       "    .dataframe tbody tr th {\n",
       "        vertical-align: top;\n",
       "    }\n",
       "\n",
       "    .dataframe thead th {\n",
       "        text-align: right;\n",
       "    }\n",
       "</style>\n",
       "<table border=\"1\" class=\"dataframe\">\n",
       "  <thead>\n",
       "    <tr style=\"text-align: right;\">\n",
       "      <th></th>\n",
       "      <th>count</th>\n",
       "      <th>mean</th>\n",
       "      <th>std</th>\n",
       "      <th>min</th>\n",
       "      <th>25%</th>\n",
       "      <th>50%</th>\n",
       "      <th>75%</th>\n",
       "      <th>max</th>\n",
       "    </tr>\n",
       "  </thead>\n",
       "  <tbody>\n",
       "    <tr>\n",
       "      <th>Weight</th>\n",
       "      <td>8523.0</td>\n",
       "      <td>12.857645</td>\n",
       "      <td>4.226124</td>\n",
       "      <td>4.555</td>\n",
       "      <td>9.310000</td>\n",
       "      <td>12.857645</td>\n",
       "      <td>16.000000</td>\n",
       "      <td>21.350000</td>\n",
       "    </tr>\n",
       "    <tr>\n",
       "      <th>ProductVisibility</th>\n",
       "      <td>8523.0</td>\n",
       "      <td>0.066132</td>\n",
       "      <td>0.051598</td>\n",
       "      <td>0.000</td>\n",
       "      <td>0.026989</td>\n",
       "      <td>0.053931</td>\n",
       "      <td>0.094585</td>\n",
       "      <td>0.328391</td>\n",
       "    </tr>\n",
       "    <tr>\n",
       "      <th>MRP</th>\n",
       "      <td>8523.0</td>\n",
       "      <td>140.992782</td>\n",
       "      <td>62.275067</td>\n",
       "      <td>31.290</td>\n",
       "      <td>93.826500</td>\n",
       "      <td>143.012800</td>\n",
       "      <td>185.643700</td>\n",
       "      <td>266.888400</td>\n",
       "    </tr>\n",
       "    <tr>\n",
       "      <th>EstablishmentYear</th>\n",
       "      <td>8523.0</td>\n",
       "      <td>1997.831867</td>\n",
       "      <td>8.371760</td>\n",
       "      <td>1985.000</td>\n",
       "      <td>1987.000000</td>\n",
       "      <td>1999.000000</td>\n",
       "      <td>2004.000000</td>\n",
       "      <td>2009.000000</td>\n",
       "    </tr>\n",
       "    <tr>\n",
       "      <th>OutletSales</th>\n",
       "      <td>8523.0</td>\n",
       "      <td>2181.288914</td>\n",
       "      <td>1706.499616</td>\n",
       "      <td>33.290</td>\n",
       "      <td>834.247400</td>\n",
       "      <td>1794.331000</td>\n",
       "      <td>3101.296400</td>\n",
       "      <td>13086.964800</td>\n",
       "    </tr>\n",
       "  </tbody>\n",
       "</table>\n",
       "</div>"
      ],
      "text/plain": [
       "                    count         mean          std       min          25%  \\\n",
       "Weight             8523.0    12.857645     4.226124     4.555     9.310000   \n",
       "ProductVisibility  8523.0     0.066132     0.051598     0.000     0.026989   \n",
       "MRP                8523.0   140.992782    62.275067    31.290    93.826500   \n",
       "EstablishmentYear  8523.0  1997.831867     8.371760  1985.000  1987.000000   \n",
       "OutletSales        8523.0  2181.288914  1706.499616    33.290   834.247400   \n",
       "\n",
       "                           50%          75%           max  \n",
       "Weight               12.857645    16.000000     21.350000  \n",
       "ProductVisibility     0.053931     0.094585      0.328391  \n",
       "MRP                 143.012800   185.643700    266.888400  \n",
       "EstablishmentYear  1999.000000  2004.000000   2009.000000  \n",
       "OutletSales        1794.331000  3101.296400  13086.964800  "
      ]
     },
     "execution_count": 372,
     "metadata": {},
     "output_type": "execute_result"
    }
   ],
   "source": [
    "data.describe().transpose()"
   ]
  },
  {
   "cell_type": "markdown",
   "id": "c842cdf7-7263-4e9f-9a1d-6a9df8029931",
   "metadata": {},
   "source": [
    "And now the categorical variables:"
   ]
  },
  {
   "cell_type": "code",
   "execution_count": 240,
   "id": "30b62916-795f-4471-a8ca-7c36659d8564",
   "metadata": {},
   "outputs": [
    {
     "data": {
      "text/plain": [
       "FatContent            5\n",
       "ProductType          16\n",
       "OutletID             10\n",
       "EstablishmentYear     9\n",
       "OutletSize            3\n",
       "LocationType          3\n",
       "OutletType            4\n",
       "dtype: int64"
      ]
     },
     "execution_count": 240,
     "metadata": {},
     "output_type": "execute_result"
    }
   ],
   "source": [
    "data[cols_categorical].nunique()"
   ]
  },
  {
   "cell_type": "code",
   "execution_count": 241,
   "id": "fde57323-d7b0-4746-91c8-aa1b8cdcdea4",
   "metadata": {},
   "outputs": [
    {
     "name": "stdout",
     "output_type": "stream",
     "text": [
      "Low Fat    5089\n",
      "Regular    2889\n",
      "LF          316\n",
      "reg         117\n",
      "low fat     112\n",
      "Name: FatContent, dtype: int64\n",
      "_________\n",
      "Fruits and Vegetables    1232\n",
      "Snack Foods              1200\n",
      "Household                 910\n",
      "Frozen Foods              856\n",
      "Dairy                     682\n",
      "Canned                    649\n",
      "Baking Goods              648\n",
      "Health and Hygiene        520\n",
      "Soft Drinks               445\n",
      "Meat                      425\n",
      "Breads                    251\n",
      "Hard Drinks               214\n",
      "Others                    169\n",
      "Starchy Foods             148\n",
      "Breakfast                 110\n",
      "Seafood                    64\n",
      "Name: ProductType, dtype: int64\n",
      "_________\n",
      "OUT027    935\n",
      "OUT013    932\n",
      "OUT049    930\n",
      "OUT046    930\n",
      "OUT035    930\n",
      "OUT045    929\n",
      "OUT018    928\n",
      "OUT017    926\n",
      "OUT010    555\n",
      "OUT019    528\n",
      "Name: OutletID, dtype: int64\n",
      "_________\n",
      "1985    1463\n",
      "1987     932\n",
      "1999     930\n",
      "1997     930\n",
      "2004     930\n",
      "2002     929\n",
      "2009     928\n",
      "2007     926\n",
      "1998     555\n",
      "Name: EstablishmentYear, dtype: int64\n",
      "_________\n",
      "Medium    2793\n",
      "Small     2388\n",
      "High       932\n",
      "Name: OutletSize, dtype: int64\n",
      "_________\n",
      "Tier 3    3350\n",
      "Tier 2    2785\n",
      "Tier 1    2388\n",
      "Name: LocationType, dtype: int64\n",
      "_________\n",
      "Supermarket Type1    5577\n",
      "Grocery Store        1083\n",
      "Supermarket Type3     935\n",
      "Supermarket Type2     928\n",
      "Name: OutletType, dtype: int64\n",
      "_________\n"
     ]
    }
   ],
   "source": [
    "for col in cols_categorical:\n",
    "    print(data[col].value_counts())\n",
    "    print(\"_________\")"
   ]
  },
  {
   "cell_type": "markdown",
   "id": "749f4312-46bb-42e4-b341-82149bdbdee6",
   "metadata": {},
   "source": [
    "The FatContent column has 5 different values but they all mean the same two things: low_fat or regular. I'll clean that up:"
   ]
  },
  {
   "cell_type": "code",
   "execution_count": 242,
   "id": "49291af0-0fb4-4f03-8e43-dfb4ee799b62",
   "metadata": {},
   "outputs": [],
   "source": [
    "data[\"FatContent\"] = np.where(data[\"FatContent\"].isin([\"Regular\", \"reg\"]), \"regular\", \"low_fat\")"
   ]
  },
  {
   "cell_type": "code",
   "execution_count": 243,
   "id": "5e51178b-28d7-411f-a6e9-b74eea16bdeb",
   "metadata": {},
   "outputs": [
    {
     "data": {
      "text/plain": [
       "low_fat    5517\n",
       "regular    3006\n",
       "Name: FatContent, dtype: int64"
      ]
     },
     "execution_count": 243,
     "metadata": {},
     "output_type": "execute_result"
    }
   ],
   "source": [
    "data[\"FatContent\"].value_counts()"
   ]
  },
  {
   "cell_type": "markdown",
   "id": "4c810372-38ad-4e14-8b14-58909200a7e4",
   "metadata": {},
   "source": [
    "Now let's look at missing values:"
   ]
  },
  {
   "cell_type": "code",
   "execution_count": 244,
   "id": "4f6f3fd1-a961-4087-902a-62a6aa22a33f",
   "metadata": {},
   "outputs": [
    {
     "data": {
      "text/plain": [
       "ProductID               0\n",
       "Weight               1463\n",
       "FatContent              0\n",
       "ProductVisibility       0\n",
       "ProductType             0\n",
       "MRP                     0\n",
       "OutletID                0\n",
       "EstablishmentYear       0\n",
       "OutletSize           2410\n",
       "LocationType            0\n",
       "OutletType              0\n",
       "OutletSales             0\n",
       "dtype: int64"
      ]
     },
     "execution_count": 244,
     "metadata": {},
     "output_type": "execute_result"
    }
   ],
   "source": [
    "data.isna().sum()"
   ]
  },
  {
   "cell_type": "code",
   "execution_count": 245,
   "id": "490fe1d4-b1cd-4d96-91b7-a2abc3c5fb11",
   "metadata": {},
   "outputs": [
    {
     "data": {
      "text/plain": [
       "OUT045    929\n",
       "OUT017    926\n",
       "OUT010    555\n",
       "Name: OutletID, dtype: int64"
      ]
     },
     "execution_count": 245,
     "metadata": {},
     "output_type": "execute_result"
    }
   ],
   "source": [
    "data.loc[data[\"OutletSize\"].isna(), \"OutletID\"].value_counts()"
   ]
  },
  {
   "cell_type": "code",
   "execution_count": 246,
   "id": "d5d87d91-be64-40ec-9eed-ad725a38856f",
   "metadata": {},
   "outputs": [
    {
     "data": {
      "text/plain": [
       "Series([], Name: OutletSize, dtype: int64)"
      ]
     },
     "execution_count": 246,
     "metadata": {},
     "output_type": "execute_result"
    }
   ],
   "source": [
    "data.loc[data[\"OutletID\"]==\"OUT045\", \"OutletSize\"].value_counts()"
   ]
  },
  {
   "cell_type": "code",
   "execution_count": 247,
   "id": "37818ebb-f8ca-447c-912c-e65495c13c79",
   "metadata": {},
   "outputs": [
    {
     "data": {
      "text/plain": [
       "Series([], Name: OutletSize, dtype: int64)"
      ]
     },
     "execution_count": 247,
     "metadata": {},
     "output_type": "execute_result"
    }
   ],
   "source": [
    "data.loc[data[\"OutletID\"]==\"OUT017\", \"OutletSize\"].value_counts()"
   ]
  },
  {
   "cell_type": "code",
   "execution_count": 248,
   "id": "4de2f7e9-b539-45e7-bacb-d9fd45a9e9be",
   "metadata": {},
   "outputs": [
    {
     "data": {
      "text/plain": [
       "Series([], Name: OutletSize, dtype: int64)"
      ]
     },
     "execution_count": 248,
     "metadata": {},
     "output_type": "execute_result"
    }
   ],
   "source": [
    "data.loc[data[\"OutletID\"]==\"OUT010\", \"OutletSize\"].value_counts()"
   ]
  },
  {
   "cell_type": "markdown",
   "id": "6dab75d4-df77-4f34-836a-a3cbe4eb4547",
   "metadata": {},
   "source": [
    "For these three outlets, information on OutletSize is completely missing. Let's see if we can infer anything about size from OutletType:"
   ]
  },
  {
   "cell_type": "code",
   "execution_count": 249,
   "id": "8fef2651-1dc1-44ab-adcb-4aa771b38029",
   "metadata": {},
   "outputs": [
    {
     "data": {
      "text/html": [
       "<div>\n",
       "<style scoped>\n",
       "    .dataframe tbody tr th:only-of-type {\n",
       "        vertical-align: middle;\n",
       "    }\n",
       "\n",
       "    .dataframe tbody tr th {\n",
       "        vertical-align: top;\n",
       "    }\n",
       "\n",
       "    .dataframe thead th {\n",
       "        text-align: right;\n",
       "    }\n",
       "</style>\n",
       "<table border=\"1\" class=\"dataframe\">\n",
       "  <thead>\n",
       "    <tr style=\"text-align: right;\">\n",
       "      <th></th>\n",
       "      <th>OutletID</th>\n",
       "      <th>OutletType</th>\n",
       "    </tr>\n",
       "  </thead>\n",
       "  <tbody>\n",
       "    <tr>\n",
       "      <th>3</th>\n",
       "      <td>OUT010</td>\n",
       "      <td>Grocery Store</td>\n",
       "    </tr>\n",
       "    <tr>\n",
       "      <th>8</th>\n",
       "      <td>OUT045</td>\n",
       "      <td>Supermarket Type1</td>\n",
       "    </tr>\n",
       "    <tr>\n",
       "      <th>9</th>\n",
       "      <td>OUT017</td>\n",
       "      <td>Supermarket Type1</td>\n",
       "    </tr>\n",
       "  </tbody>\n",
       "</table>\n",
       "</div>"
      ],
      "text/plain": [
       "  OutletID         OutletType\n",
       "3   OUT010      Grocery Store\n",
       "8   OUT045  Supermarket Type1\n",
       "9   OUT017  Supermarket Type1"
      ]
     },
     "execution_count": 249,
     "metadata": {},
     "output_type": "execute_result"
    }
   ],
   "source": [
    "data.loc[data[\"OutletSize\"].isna(), [\"OutletID\", \"OutletType\"]].drop_duplicates()"
   ]
  },
  {
   "cell_type": "code",
   "execution_count": 250,
   "id": "74c119e5-32c7-4adb-bfbc-3b96cb5a997e",
   "metadata": {},
   "outputs": [
    {
     "data": {
      "text/html": [
       "<div>\n",
       "<style scoped>\n",
       "    .dataframe tbody tr th:only-of-type {\n",
       "        vertical-align: middle;\n",
       "    }\n",
       "\n",
       "    .dataframe tbody tr th {\n",
       "        vertical-align: top;\n",
       "    }\n",
       "\n",
       "    .dataframe thead th {\n",
       "        text-align: right;\n",
       "    }\n",
       "</style>\n",
       "<table border=\"1\" class=\"dataframe\">\n",
       "  <thead>\n",
       "    <tr style=\"text-align: right;\">\n",
       "      <th></th>\n",
       "      <th>OutletSize</th>\n",
       "      <th>OutletID</th>\n",
       "    </tr>\n",
       "    <tr>\n",
       "      <th>OutletType</th>\n",
       "      <th></th>\n",
       "      <th></th>\n",
       "    </tr>\n",
       "  </thead>\n",
       "  <tbody>\n",
       "    <tr>\n",
       "      <th>Grocery Store</th>\n",
       "      <td>[nan, Small]</td>\n",
       "      <td>2</td>\n",
       "    </tr>\n",
       "    <tr>\n",
       "      <th>Supermarket Type1</th>\n",
       "      <td>[Medium, High, nan, Small]</td>\n",
       "      <td>6</td>\n",
       "    </tr>\n",
       "    <tr>\n",
       "      <th>Supermarket Type2</th>\n",
       "      <td>[Medium]</td>\n",
       "      <td>1</td>\n",
       "    </tr>\n",
       "    <tr>\n",
       "      <th>Supermarket Type3</th>\n",
       "      <td>[Medium]</td>\n",
       "      <td>1</td>\n",
       "    </tr>\n",
       "  </tbody>\n",
       "</table>\n",
       "</div>"
      ],
      "text/plain": [
       "                                   OutletSize  OutletID\n",
       "OutletType                                             \n",
       "Grocery Store                    [nan, Small]         2\n",
       "Supermarket Type1  [Medium, High, nan, Small]         6\n",
       "Supermarket Type2                    [Medium]         1\n",
       "Supermarket Type3                    [Medium]         1"
      ]
     },
     "execution_count": 250,
     "metadata": {},
     "output_type": "execute_result"
    }
   ],
   "source": [
    "data.groupby(\"OutletType\").agg({\"OutletSize\":\"unique\", \"OutletID\":\"nunique\"})"
   ]
  },
  {
   "cell_type": "code",
   "execution_count": 251,
   "id": "6e546e6d-67fb-4b6e-b7d7-7700fdf06caa",
   "metadata": {},
   "outputs": [
    {
     "data": {
      "text/plain": [
       "0     Medium\n",
       "4       High\n",
       "8        NaN\n",
       "11     Small\n",
       "Name: OutletSize, dtype: object"
      ]
     },
     "execution_count": 251,
     "metadata": {},
     "output_type": "execute_result"
    }
   ],
   "source": [
    "data.loc[data[\"OutletType\"]==\"Supermarket Type1\", \"OutletSize\"].drop_duplicates()"
   ]
  },
  {
   "cell_type": "markdown",
   "id": "cbcd8f67-c786-4af6-8e7a-019a17fe7e3b",
   "metadata": {},
   "source": [
    "I guess we can assume that the outlets of type \"Grocery Store\" will be small. As for the two remaining Type1 outlets, we can either drop them from out dataset, which would suck... Or we can replace the nan values with the middle value (\"Medium\"). This is a gross assumption, but in the absence of more information I'll proceed with this:"
   ]
  },
  {
   "cell_type": "code",
   "execution_count": 252,
   "id": "34124d0d-563b-46fb-a1c0-2d16a2ba47c0",
   "metadata": {},
   "outputs": [],
   "source": [
    "data[\"OutletSize\"] = np.where(data[\"OutletType\"]==\"Grocery Store\", \"Small\", data[\"OutletSize\"])\n",
    "data[\"OutletSize\"] = data[\"OutletSize\"].fillna(\"Medium\")"
   ]
  },
  {
   "cell_type": "markdown",
   "id": "0515a6e0-6896-4643-afb9-ab71c50bcf22",
   "metadata": {},
   "source": [
    "As for the variable \"Weight\", in the absence of more info I'll replace NaNs with the mean value:"
   ]
  },
  {
   "cell_type": "code",
   "execution_count": 253,
   "id": "0385b4c0-5b56-4765-926c-137c5a575e3a",
   "metadata": {},
   "outputs": [],
   "source": [
    "data[\"Weight\"] = data[\"Weight\"].fillna(data[\"Weight\"].mean())"
   ]
  },
  {
   "cell_type": "code",
   "execution_count": 254,
   "id": "404f5aa3-00f2-42ef-9254-bcdc808fdaff",
   "metadata": {},
   "outputs": [
    {
     "data": {
      "text/plain": [
       "ProductID            0\n",
       "Weight               0\n",
       "FatContent           0\n",
       "ProductVisibility    0\n",
       "ProductType          0\n",
       "MRP                  0\n",
       "OutletID             0\n",
       "EstablishmentYear    0\n",
       "OutletSize           0\n",
       "LocationType         0\n",
       "OutletType           0\n",
       "OutletSales          0\n",
       "dtype: int64"
      ]
     },
     "execution_count": 254,
     "metadata": {},
     "output_type": "execute_result"
    }
   ],
   "source": [
    "data.isna().sum()"
   ]
  },
  {
   "cell_type": "markdown",
   "id": "33f18467-a793-40b4-80c0-31137e045138",
   "metadata": {},
   "source": [
    "No more missing values, yay! :D\n",
    "Finally, let's take a look at the target variable:"
   ]
  },
  {
   "cell_type": "code",
   "execution_count": 255,
   "id": "a635e099-4e1b-4840-a60b-d4f344677880",
   "metadata": {},
   "outputs": [
    {
     "data": {
      "text/plain": [
       "<AxesSubplot:xlabel='OutletSales', ylabel='Count'>"
      ]
     },
     "execution_count": 255,
     "metadata": {},
     "output_type": "execute_result"
    },
    {
     "data": {
      "image/png": "[encoded data removed]",
      "text/plain": [
       "<Figure size 432x288 with 1 Axes>"
      ]
     },
     "metadata": {
      "needs_background": "light"
     },
     "output_type": "display_data"
    }
   ],
   "source": [
    "sns.histplot(data[\"OutletSales\"], bins=30)"
   ]
  },
  {
   "cell_type": "markdown",
   "id": "9428f7e3-3f77-4625-8736-5504846750c5",
   "metadata": {},
   "source": [
    "Since the distribution of the target variable is a long-tailed one, we should logarithmize it before training any models."
   ]
  },
  {
   "cell_type": "code",
   "execution_count": 256,
   "id": "a92db601-7d4c-41eb-8c85-6f45725c0e51",
   "metadata": {},
   "outputs": [
    {
     "data": {
      "text/plain": [
       "<AxesSubplot:xlabel='OutletSales', ylabel='Count'>"
      ]
     },
     "execution_count": 256,
     "metadata": {},
     "output_type": "execute_result"
    },
    {
     "data": {
      "image/png": "[encoded data removed]",
      "text/plain": [
       "<Figure size 432x288 with 1 Axes>"
      ]
     },
     "metadata": {
      "needs_background": "light"
     },
     "output_type": "display_data"
    }
   ],
   "source": [
    "sns.histplot(np.log1p(data[\"OutletSales\"]), bins=30)"
   ]
  },
  {
   "cell_type": "markdown",
   "id": "9504e5aa-1238-4954-aecc-459e5ea7ce09",
   "metadata": {},
   "source": [
    "# Feature importance"
   ]
  },
  {
   "cell_type": "code",
   "execution_count": 257,
   "id": "71a7a709-a72a-4412-9f3e-4feb2301c5a4",
   "metadata": {},
   "outputs": [
    {
     "name": "stdout",
     "output_type": "stream",
     "text": [
      "FatContent 0.0\n",
      "ProductType 0.006\n",
      "OutletID 0.216\n",
      "EstablishmentYear 0.127\n",
      "OutletSize 0.056\n",
      "LocationType 0.02\n",
      "OutletType 0.214\n"
     ]
    }
   ],
   "source": [
    "for col in cols_categorical:\n",
    "    print(col, round(mutual_info_score(data[col], pd.qcut(data[\"OutletSales\"], 5, labels=False)), 3))"
   ]
  },
  {
   "cell_type": "code",
   "execution_count": 258,
   "id": "53169a7b-ed51-4810-89cf-a6817d1bea5d",
   "metadata": {},
   "outputs": [
    {
     "name": "stdout",
     "output_type": "stream",
     "text": [
      "Weight 0.012\n",
      "ProductVisibility -0.129\n",
      "MRP 0.568\n"
     ]
    }
   ],
   "source": [
    "for col in cols_numerical:\n",
    "    print(col, round(data[col].corr(data[\"OutletSales\"]), 3))"
   ]
  },
  {
   "cell_type": "markdown",
   "id": "513ce407-d561-4e5f-83b2-97351e07932d",
   "metadata": {},
   "source": [
    "The most important categorical features are OutletID/OutletType and EstablishmentYear. FatContent seems to have pretty much no predictive power on sales. Of the numerical variables, the most important one is clearly MRP (price), followed by ProductVisibility. \n",
    "\n",
    "Interestingly, ProductVisibility correlates _negatively_ with Sales - not what I would have expected. Maybe BigMart tries to increase sales of low-performing products by assigning them more shelf space? If so, that strategy doesn't seem to pay off."
   ]
  },
  {
   "cell_type": "markdown",
   "id": "9a060472-1fb6-4d8b-9118-943e9befda5d",
   "metadata": {},
   "source": [
    "# Model selection"
   ]
  },
  {
   "cell_type": "markdown",
   "id": "beebb21a-86f7-4f55-b370-5dad47c22831",
   "metadata": {},
   "source": [
    "I'll start by creating the feature matrices and target variable arrays (logarithmized)."
   ]
  },
  {
   "cell_type": "code",
   "execution_count": 275,
   "id": "f5fd2219-3860-4c06-92d0-3ebce786e266",
   "metadata": {},
   "outputs": [],
   "source": [
    "full_train, test = train_test_split(data[cols_categorical + cols_numerical + [\"OutletSales\"]], \n",
    "                                    test_size=0.2, \n",
    "                                    random_state=17)\n",
    "\n",
    "y_full_train = np.log1p(full_train[\"OutletSales\"])\n",
    "y_test = np.log1p(test[\"OutletSales\"])\n",
    "\n",
    "del full_train[\"OutletSales\"]\n",
    "del test[\"OutletSales\"]\n",
    "\n",
    "dict_full_train = full_train.to_dict(orient=\"records\")\n",
    "dict_test = test.to_dict(orient=\"records\")\n",
    "\n",
    "dv=DictVectorizer(sparse=False)\n",
    "X_full_train = dv.fit_transform(dict_full_train)\n",
    "X_test = dv.transform(dict_test)"
   ]
  },
  {
   "cell_type": "markdown",
   "id": "628e2cee-3e76-415e-890b-ef53f1ab3bef",
   "metadata": {},
   "source": [
    "For selecting the best model and tuning its parameters, I will use 5-fold cross-validation. For this purpose, I'll be using the `cross_validate()` function instead of the `KFold` class that we used in the course lectures/homework. It lives in sklearn.model_selection package. Instead of returning the indices to use for subsetting the dataframe containing the data, it takes the full dataframe directly, as well as an instantiated model object and one or more scoring methods (for instance, the mean squared error) and returns an array containing, among other things, the calculated mean squared error for the model trained on each fold. For more info on this function, check the [documentation](https://scikit-learn.org/stable/modules/generated/sklearn.model_selection.cross_validate.html)."
   ]
  },
  {
   "cell_type": "code",
   "execution_count": 160,
   "id": "f732defd-69c6-4366-bc3f-2db0b27e99f4",
   "metadata": {},
   "outputs": [],
   "source": [
    "def score_model(model, X, y):\n",
    "    results = cross_validate(model, X, y, scoring=[\"neg_mean_squared_error\", \"r2\"])\n",
    "    print(f\"MSE: {round(results['test_neg_mean_squared_error'].mean(), 3)}+-{round(results['test_neg_mean_squared_error'].std(), 3)}\")\n",
    "    print(f\"r2: {round(results['test_r2'].mean(), 4)}+-{round(results['test_r2'].std(), 4)}\")"
   ]
  },
  {
   "cell_type": "code",
   "execution_count": 95,
   "id": "553c30e6-2a03-4340-9576-ed80f015ff6d",
   "metadata": {},
   "outputs": [
    {
     "name": "stdout",
     "output_type": "stream",
     "text": [
      "MSE: -0.291+-0.009\n",
      "r2: 0.719+-0.02\n"
     ]
    }
   ],
   "source": [
    "model = LinearRegression()\n",
    "score_model(model, X_full_train, y_full_train)"
   ]
  },
  {
   "cell_type": "code",
   "execution_count": 99,
   "id": "accd3b2b-5353-41eb-af86-926dde829367",
   "metadata": {},
   "outputs": [
    {
     "name": "stdout",
     "output_type": "stream",
     "text": [
      "Alpha = 0.001\n",
      "MSE: -0.291+-0.009\n",
      "r2: 0.719+-0.02\n",
      "______\n",
      "Alpha = 0.01\n",
      "MSE: -0.291+-0.009\n",
      "r2: 0.719+-0.02\n",
      "______\n",
      "Alpha = 0.1\n",
      "MSE: -0.291+-0.008\n",
      "r2: 0.719+-0.02\n",
      "______\n",
      "Alpha = 1\n",
      "MSE: -0.291+-0.008\n",
      "r2: 0.719+-0.02\n",
      "______\n",
      "Alpha = 10\n",
      "MSE: -0.291+-0.008\n",
      "r2: 0.719+-0.02\n",
      "______\n",
      "Alpha = 100\n",
      "MSE: -0.293+-0.007\n",
      "r2: 0.717+-0.019\n",
      "______\n"
     ]
    }
   ],
   "source": [
    "for alpha in [0.001, 0.01, 0.1, 1, 10, 100]:\n",
    "    model = Ridge(alpha=alpha)\n",
    "    print(\"Alpha =\", alpha)\n",
    "    score_model(model, X_full_train, y_full_train)\n",
    "    print(\"______\")"
   ]
  },
  {
   "cell_type": "markdown",
   "id": "f4941627-9d0e-44cb-9087-4fe96251df17",
   "metadata": {},
   "source": [
    "Ridge regression doesn't seem to do any better than Linear regression - regularization doesn't help with this dataset.\n",
    "\n",
    "Let's try a decision tree regressor:"
   ]
  },
  {
   "cell_type": "code",
   "execution_count": 100,
   "id": "593c8bfd-260a-4c3d-88ca-dade85d16dea",
   "metadata": {},
   "outputs": [
    {
     "name": "stdout",
     "output_type": "stream",
     "text": [
      "MSE: -0.563+-0.013\n",
      "r2: 0.456+-0.027\n"
     ]
    }
   ],
   "source": [
    "model = DecisionTreeRegressor()\n",
    "score_model(model, X_full_train, y_full_train)"
   ]
  },
  {
   "cell_type": "markdown",
   "id": "85dbd50a-2d04-4619-b3d2-d04a9742b70a",
   "metadata": {},
   "source": [
    "With default parameters, a Decision Tree isn't performing very impressively. Let's see if we can boost performance by tuning the hyperparameters.\n",
    "\n",
    "\n",
    "Tree-based models have more hyperparameters than the linear models I tried before, so in order to tune those parameters I will use GridSearchCV. This function lives in the sklearn.model_selection package. It takes as input among other things an instantiated model and a dictionary with parameters and the values we want to try out, and then fits the model for each combination of those parameters. Compared to how we did it in the classes, it has the advantage that it tries all possible combinations of the parameter values we give it, instead of finding the best value for one parameter holding everything else constant, then proceeding to the next parameter. For more info, check the [documentation](https://scikit-learn.org/stable/modules/generated/sklearn.model_selection.GridSearchCV.html)."
   ]
  },
  {
   "cell_type": "code",
   "execution_count": 153,
   "id": "096981c3-3d32-41f7-a582-e21a56305367",
   "metadata": {},
   "outputs": [],
   "source": [
    "param_grid = {\n",
    "    \"max_depth\": [1,2,3,4,5,6,7,8,9,10,15,20],\n",
    "    \"min_samples_leaf\": [1, 2, 3, 5, 10, 20],\n",
    "    \"criterion\": [\"mse\", \"friedman_mse\", \"mae\", \"poisson\"]\n",
    "}\n",
    "\n",
    "grid = GridSearchCV(DecisionTreeRegressor(random_state=17), \n",
    "                    param_grid, \n",
    "                    scoring = \"r2\", \n",
    "                    refit = True, \n",
    "                    verbose = 1,\n",
    "                    n_jobs=-1)"
   ]
  },
  {
   "cell_type": "code",
   "execution_count": 154,
   "id": "c86a9e1f-f086-4ae3-b6b9-21e874d36c78",
   "metadata": {},
   "outputs": [
    {
     "name": "stdout",
     "output_type": "stream",
     "text": [
      "Fitting 5 folds for each of 288 candidates, totalling 1440 fits\n"
     ]
    },
    {
     "data": {
      "text/plain": [
       "GridSearchCV(estimator=DecisionTreeRegressor(random_state=17), n_jobs=-1,\n",
       "             param_grid={'criterion': ['mse', 'friedman_mse', 'mae', 'poisson'],\n",
       "                         'max_depth': [1, 2, 3, 4, 5, 6, 7, 8, 9, 10, 15, 20],\n",
       "                         'min_samples_leaf': [1, 2, 3, 5, 10, 20]},\n",
       "             scoring='r2', verbose=1)"
      ]
     },
     "execution_count": 154,
     "metadata": {},
     "output_type": "execute_result"
    }
   ],
   "source": [
    "grid.fit(X_full_train, y_full_train)"
   ]
  },
  {
   "cell_type": "code",
   "execution_count": 155,
   "id": "bb42a9fb-18ce-4dca-957f-a3a9fe8a0fdf",
   "metadata": {},
   "outputs": [
    {
     "data": {
      "text/plain": [
       "{'criterion': 'mse', 'max_depth': 6, 'min_samples_leaf': 20}"
      ]
     },
     "execution_count": 155,
     "metadata": {},
     "output_type": "execute_result"
    }
   ],
   "source": [
    "grid.best_params_"
   ]
  },
  {
   "cell_type": "code",
   "execution_count": 156,
   "id": "8b276621-ade3-4858-971a-d16a56668388",
   "metadata": {},
   "outputs": [
    {
     "data": {
      "text/plain": [
       "0.7297120094800071"
      ]
     },
     "execution_count": 156,
     "metadata": {},
     "output_type": "execute_result"
    }
   ],
   "source": [
    "grid.best_score_"
   ]
  },
  {
   "cell_type": "markdown",
   "id": "f3fe61fa-bda6-43b5-8fb9-b23503757937",
   "metadata": {},
   "source": [
    "That's slightly better (by 1%) compared to the linear model we tried first. If we were worrying about speed, this marginal increase probably wouldn't justify using Trees; but that's not the case here, since the Decision Tree model still runs fast.\n",
    "\n",
    "Let's try a Random Forest Regressor now:"
   ]
  },
  {
   "cell_type": "code",
   "execution_count": 165,
   "id": "e93d5839-8cbd-4561-ab58-a5af203937c7",
   "metadata": {},
   "outputs": [],
   "source": [
    "param_grid = {\n",
    "    \"max_depth\": [1,4,5,6,7,8,10,15,20],\n",
    "    \"min_samples_leaf\": [1, 2, 5, 10, 20, 30],\n",
    "    \"n_estimators\": [5, 10, 25, 50]\n",
    "}\n",
    "\n",
    "grid = GridSearchCV(RandomForestRegressor(random_state=17), \n",
    "                    param_grid, \n",
    "                    scoring = \"r2\", \n",
    "                    refit = True, \n",
    "                    verbose = 1,\n",
    "                    n_jobs=-1)"
   ]
  },
  {
   "cell_type": "code",
   "execution_count": 166,
   "id": "e3adef75-ff6f-40dd-b3ee-a03afd14fdd6",
   "metadata": {},
   "outputs": [
    {
     "name": "stdout",
     "output_type": "stream",
     "text": [
      "Fitting 5 folds for each of 216 candidates, totalling 1080 fits\n"
     ]
    },
    {
     "data": {
      "text/plain": [
       "GridSearchCV(estimator=RandomForestRegressor(random_state=17), n_jobs=-1,\n",
       "             param_grid={'max_depth': [1, 4, 5, 6, 7, 8, 10, 15, 20],\n",
       "                         'min_samples_leaf': [1, 2, 5, 10, 20, 30],\n",
       "                         'n_estimators': [5, 10, 25, 50]},\n",
       "             scoring='r2', verbose=1)"
      ]
     },
     "execution_count": 166,
     "metadata": {},
     "output_type": "execute_result"
    }
   ],
   "source": [
    "grid.fit(X_full_train, y_full_train)"
   ]
  },
  {
   "cell_type": "code",
   "execution_count": 167,
   "id": "d02eb945-ba85-4b82-9f71-c13510bb9c08",
   "metadata": {},
   "outputs": [
    {
     "data": {
      "text/plain": [
       "{'max_depth': 6, 'min_samples_leaf': 30, 'n_estimators': 50}"
      ]
     },
     "execution_count": 167,
     "metadata": {},
     "output_type": "execute_result"
    }
   ],
   "source": [
    "grid.best_params_"
   ]
  },
  {
   "cell_type": "code",
   "execution_count": 168,
   "id": "83f3890f-cc26-49cd-8df3-8d44848d8206",
   "metadata": {},
   "outputs": [
    {
     "data": {
      "text/plain": [
       "0.7382646036352969"
      ]
     },
     "execution_count": 168,
     "metadata": {},
     "output_type": "execute_result"
    }
   ],
   "source": [
    "grid.best_score_"
   ]
  },
  {
   "cell_type": "markdown",
   "id": "195cabe8-26f5-45a5-b434-f6cf00c8add5",
   "metadata": {},
   "source": [
    "Another slight improvement! Finally, let's try XGBoost. I'll use the XGBRegressor estimator instead of DMatrices and the train function from XGBoost. It does the same but uses a similar syntax as the rest of the sklearn models, so I find it more convenient. More about it in the [documentation](https://xgboost.readthedocs.io/en/latest/python/python_api.html?highlight=xgbregressor#xgboost.XGBRegressor)."
   ]
  },
  {
   "cell_type": "code",
   "execution_count": 192,
   "id": "4b2344b4-a7c5-4772-8812-bb5766618f99",
   "metadata": {},
   "outputs": [
    {
     "name": "stdout",
     "output_type": "stream",
     "text": [
      "Fitting 5 folds for each of 63 candidates, totalling 315 fits\n"
     ]
    },
    {
     "data": {
      "text/plain": [
       "{'colsample_bytree': 0.55, 'eta': 0.1, 'min_child_weight': 20}"
      ]
     },
     "execution_count": 192,
     "metadata": {},
     "output_type": "execute_result"
    }
   ],
   "source": [
    "param_grid = {\n",
    "    \"eta\": [0.1, 0.2, 0.3],\n",
    "    \"colsample_bytree\": [0.5, 0.55, 0.6, 0.65, 0.7, 0.75, 0.9], \n",
    "    \"min_child_weight\": [10, 20, 30]\n",
    "}\n",
    "\n",
    "model = XGBRegressor(max_depth=6, n_estimators=50, n_jobs=-1)\n",
    "\n",
    "grid = GridSearchCV(model, \n",
    "                    param_grid, \n",
    "                    scoring = \"r2\", \n",
    "                    refit = True, \n",
    "                    verbose = 1,\n",
    "                    n_jobs=-1)\n",
    "\n",
    "grid.fit(X_full_train, y_full_train)\n",
    "\n",
    "grid.best_params_"
   ]
  },
  {
   "cell_type": "code",
   "execution_count": 193,
   "id": "e72b33da-aa58-4399-b55a-315218ca6ebe",
   "metadata": {},
   "outputs": [
    {
     "data": {
      "text/plain": [
       "0.7364842074819923"
      ]
     },
     "execution_count": 193,
     "metadata": {},
     "output_type": "execute_result"
    }
   ],
   "source": [
    "grid.best_score_"
   ]
  },
  {
   "cell_type": "markdown",
   "id": "06f2e900-e1ed-49f9-937a-652f8da6c77a",
   "metadata": {},
   "source": [
    "XGBoost didn't improve on the performance achieved by the random forest. So I'll stick with the random forest! Let's train the final model:"
   ]
  },
  {
   "cell_type": "code",
   "execution_count": 276,
   "id": "4631cb0a-3fa0-4067-970c-653e29fd8852",
   "metadata": {},
   "outputs": [
    {
     "name": "stdout",
     "output_type": "stream",
     "text": [
      "MSE: 0.27337637371229423\n",
      "r2: 0.6064384828515718\n"
     ]
    }
   ],
   "source": [
    "model = RandomForestRegressor(max_depth=6, \n",
    "                              min_samples_leaf=30, \n",
    "                              n_estimators=50,\n",
    "                              random_state=17)\n",
    "\n",
    "model.fit(X_full_train, y_full_train)\n",
    "\n",
    "y_pred = model.predict(X_test)\n",
    "print(\"MSE:\", mean_squared_error(y_pred, y_test))\n",
    "print(\"r2:\", r2_score(y_pred, y_test))"
   ]
  },
  {
   "cell_type": "markdown",
   "id": "01607105-6b95-4718-9084-25db4be445f9",
   "metadata": {},
   "source": [
    "It's clear that the model is overfitting, judging from the drop in performance from the training dataset to the test dataset. Let's see if linear regression overfits less (since it's a simpler model):"
   ]
  },
  {
   "cell_type": "code",
   "execution_count": 277,
   "id": "196f1b6f-4feb-4925-9261-12f7445e84db",
   "metadata": {},
   "outputs": [
    {
     "name": "stdout",
     "output_type": "stream",
     "text": [
      "MSE: 0.2837043994160826\n",
      "r2: 0.5890846626553069\n"
     ]
    }
   ],
   "source": [
    "model = LinearRegression()\n",
    "\n",
    "model.fit(X_full_train, y_full_train)\n",
    "\n",
    "y_pred = model.predict(X_test)\n",
    "print(\"MSE:\", mean_squared_error(y_pred, y_test))\n",
    "print(\"r2:\", r2_score(y_pred, y_test))"
   ]
  },
  {
   "cell_type": "markdown",
   "id": "04d57d92-46d7-4ace-bef4-1d8d1cca4a07",
   "metadata": {},
   "source": [
    "Nope. It's even worse. God help me.\n",
    "\n",
    "One possibility would be to reduce the number of features. In fact, several of the features that we've been using are not very important, according to the correlation coefficients/mutual info scores I calculated above. Others are highly correlated (all the features related to the outlets can probably be dropped in favor of OutletID. Let's see how this affects performance with both models:"
   ]
  },
  {
   "cell_type": "code",
   "execution_count": 295,
   "id": "a36941d0-128d-4a46-a61c-212b6eef784f",
   "metadata": {},
   "outputs": [
    {
     "name": "stdout",
     "output_type": "stream",
     "text": [
      "MSE: 0.27275492760519043\n",
      "r2: 0.6064072957354121\n"
     ]
    }
   ],
   "source": [
    "cols_categorical = [\"ProductType\", \n",
    "                    \"OutletID\"]\n",
    "cols_numerical = [\"ProductVisibility\", \n",
    "                  \"MRP\"]\n",
    "\n",
    "full_train, test = train_test_split(data[cols_categorical + cols_numerical + [\"OutletSales\"]], \n",
    "                                    test_size=0.2, \n",
    "                                    random_state=17)\n",
    "\n",
    "y_full_train = np.log1p(full_train[\"OutletSales\"])\n",
    "y_test = np.log1p(test[\"OutletSales\"])\n",
    "\n",
    "del full_train[\"OutletSales\"]\n",
    "del test[\"OutletSales\"]\n",
    "\n",
    "dict_full_train = full_train.to_dict(orient=\"records\")\n",
    "dict_test = test.to_dict(orient=\"records\")\n",
    "\n",
    "dv=DictVectorizer(sparse=False)\n",
    "X_full_train = dv.fit_transform(dict_full_train)\n",
    "X_test = dv.transform(dict_test)\n",
    "\n",
    "model = RandomForestRegressor(max_depth=6, \n",
    "                              min_samples_leaf=30, \n",
    "                              n_estimators=50,\n",
    "                              random_state=17)\n",
    "\n",
    "model.fit(X_full_train, y_full_train)\n",
    "\n",
    "y_pred = model.predict(X_test)\n",
    "print(\"MSE:\", mean_squared_error(y_pred, y_test))\n",
    "print(\"r2:\", r2_score(y_pred, y_test))"
   ]
  },
  {
   "cell_type": "code",
   "execution_count": 279,
   "id": "4246d4f1-41aa-4632-8408-f92264428924",
   "metadata": {},
   "outputs": [
    {
     "name": "stdout",
     "output_type": "stream",
     "text": [
      "MSE: 0.28369056416811433\n",
      "r2: 0.5890843660249417\n"
     ]
    }
   ],
   "source": [
    "model = LinearRegression()\n",
    "\n",
    "model.fit(X_full_train, y_full_train)\n",
    "\n",
    "y_pred = model.predict(X_test)\n",
    "print(\"MSE:\", mean_squared_error(y_pred, y_test))\n",
    "print(\"r2:\", r2_score(y_pred, y_test))"
   ]
  },
  {
   "cell_type": "markdown",
   "id": "14b17189-c7ef-4a22-8e5e-3eeb5476d3a4",
   "metadata": {},
   "source": [
    "The features we removed were pretty useless indeed (MSE and R2 barely changed at all), but the model is still overfitting. This sucks, but for the purposes of the midterm project, I'll accept it. The biggest lesson I've learned from this project: in order to make good predictions, you need to have good features.\n",
    "\n",
    "The final model I will use for deployment as a web service will be the Random Forest with reduced features and the following parameters:\n",
    "\n",
    "- max_depth=6, \n",
    "- min_samples_leaf=30, \n",
    "- n_estimators=50,\n",
    "- random_state=17\n",
    "\n",
    "The model was deployed on Heroku as a web service. Check the readme file in the repository root for more details on how it was deployed and how to submit a request for predicting sales numbers for a new product! :)"
   ]
  }
 ],
 "metadata": {
  "kernelspec": {
   "display_name": "Python 3 (ipykernel)",
   "language": "python",
   "name": "python3"
  },
  "language_info": {
   "codemirror_mode": {
    "name": "ipython",
    "version": 3
   },
   "file_extension": ".py",
   "mimetype": "text/x-python",
   "name": "python",
   "nbconvert_exporter": "python",
   "pygments_lexer": "ipython3",
   "version": "3.9.6"
  }
 },
 "nbformat": 4,
 "nbformat_minor": 5
}
